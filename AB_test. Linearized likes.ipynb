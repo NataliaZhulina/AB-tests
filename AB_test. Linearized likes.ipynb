{
 "cells": [
  {
   "cell_type": "markdown",
   "id": "c5afe8d1-4f50-407a-a0ed-538d913fbf7c",
   "metadata": {
    "tags": []
   },
   "source": [
    "# A/B  тестирование. Метод линеаризованных лайков.\n"
   ]
  },
  {
   "cell_type": "markdown",
   "id": "0adcbb44-f10e-44a9-9d68-db48166b2b03",
   "metadata": {},
   "source": [
    "__Вводные данные:__\n",
    "\n",
    "Параллельно проводятся два теста.\n",
    "\n",
    "Дата проведения тестов: с 2023-01-31 по 2023-02-06\n",
    "\n",
    "Первый тест:\n",
    "* exp_group = 1 - Все по-старому\n",
    "* exp_group = 2 - Рекомендации \"похожих на лайкнутые постов\"\n",
    "\n",
    "Второй тест:\n",
    "* exp_group = 0 – Все по-старому\n",
    "* exp_group = 3 - Рекомендации \"постов, которые лайкали похожие на вас люди\"\n"
   ]
  },
  {
   "cell_type": "markdown",
   "id": "41efe1ce-ed2a-4733-9c92-f3891aece2af",
   "metadata": {},
   "source": [
    "\n",
    "__Задача: проанализировать данные АB-теста в группах 0-3 и 1-2 методом линеаризованных лайков.__ \n"
   ]
  },
  {
   "cell_type": "markdown",
   "id": "7f1abce1-270b-4377-80fd-d74e75a1fae1",
   "metadata": {},
   "source": [
    "__Формируем гипотезы:__\n",
    "\n",
    "Н0 = Различий между группами нет.\n",
    "\n",
    "Н1 = Различия между группами есть."
   ]
  },
  {
   "cell_type": "markdown",
   "id": "b4b3b185",
   "metadata": {},
   "source": [
    "### Вывод из анализа AB теста 0 и 3 групп\n",
    "Глобальный CTR 2-й группы (экспериментальной) оказался ниже, чем в контрольной. Из чего следует, что новый алгоритм во 2-й группе привёл к ухудшени. Соответственно раскатывать новый алгоритм на всех новых пользователей не стоит. Может быть стоит проверить корректность проведения AB теста, т.к распределение CTR второй группы выглядит не характерно"
   ]
  },
  {
   "cell_type": "markdown",
   "id": "0ad97a4a",
   "metadata": {},
   "source": [
    "### Вывод из анализа AB теста 1 и 2 групп\n",
    "Первый тест по метрике linearize_likes более чувствителен и показывает, что отличия между группами есть. t-test по метрике ctr , говорит, что группы одинаковые. Мне кажется, что при таком распределении данных во второй группе вообще не коректно использовать просто t-test."
   ]
  },
  {
   "cell_type": "code",
   "execution_count": 1,
   "id": "93759379-384d-4e3c-90a2-c4138561b9a1",
   "metadata": {},
   "outputs": [],
   "source": [
    "import pandas as pd\n",
    "import pandahouse as ph\n",
    "import matplotlib.pyplot as plt\n",
    "import numpy as np\n",
    "import seaborn as sns\n",
    "import scipy.stats as stats"
   ]
  },
  {
   "cell_type": "code",
   "execution_count": 2,
   "id": "228d8a46-27f5-4771-aca5-ed58a37d0a37",
   "metadata": {},
   "outputs": [],
   "source": [
    "#сразу установим параметры вывода графиков \n",
    "sns.set(\n",
    "    rc={\n",
    "        \"figure.figsize\": (12, 8), #размер графика - 12 дюймов в ширину, 8 в длину\n",
    "        \"axes.titlesize\": 20, #размер заголовка \n",
    "        \"axes.labelsize\": 14, #размер подписей осей\n",
    "        \"xtick.labelsize\": 13, #размер подписей чёрточек на x-оси\n",
    "        \"ytick.labelsize\": 13, #размер подписей чёрточек на y-оси\n",
    "    }\n",
    ")"
   ]
  },
  {
   "cell_type": "code",
   "execution_count": null,
   "id": "b5788c8c-c16c-48b5-bf91-84f646e3fbca",
   "metadata": {},
   "outputs": [],
   "source": []
  },
  {
   "cell_type": "markdown",
   "id": "9c3ff97b-0ccc-4448-9098-e06317c1d633",
   "metadata": {
    "tags": []
   },
   "source": [
    "## AB тест для групп 1 и 2\n"
   ]
  },
  {
   "cell_type": "code",
   "execution_count": 3,
   "id": "d0988920-80a0-4a0c-87c1-c68bce9694b0",
   "metadata": {},
   "outputs": [
    {
     "data": {
      "text/html": [
       "<div>\n",
       "<style scoped>\n",
       "    .dataframe tbody tr th:only-of-type {\n",
       "        vertical-align: middle;\n",
       "    }\n",
       "\n",
       "    .dataframe tbody tr th {\n",
       "        vertical-align: top;\n",
       "    }\n",
       "\n",
       "    .dataframe thead th {\n",
       "        text-align: right;\n",
       "    }\n",
       "</style>\n",
       "<table border=\"1\" class=\"dataframe\">\n",
       "  <thead>\n",
       "    <tr style=\"text-align: right;\">\n",
       "      <th></th>\n",
       "      <th>exp_group</th>\n",
       "      <th>user_id</th>\n",
       "      <th>likes</th>\n",
       "      <th>views</th>\n",
       "      <th>ctr</th>\n",
       "    </tr>\n",
       "  </thead>\n",
       "  <tbody>\n",
       "    <tr>\n",
       "      <th>0</th>\n",
       "      <td>1</td>\n",
       "      <td>109963</td>\n",
       "      <td>3</td>\n",
       "      <td>15</td>\n",
       "      <td>0.200000</td>\n",
       "    </tr>\n",
       "    <tr>\n",
       "      <th>1</th>\n",
       "      <td>1</td>\n",
       "      <td>26117</td>\n",
       "      <td>32</td>\n",
       "      <td>141</td>\n",
       "      <td>0.226950</td>\n",
       "    </tr>\n",
       "    <tr>\n",
       "      <th>2</th>\n",
       "      <td>1</td>\n",
       "      <td>138232</td>\n",
       "      <td>18</td>\n",
       "      <td>73</td>\n",
       "      <td>0.246575</td>\n",
       "    </tr>\n",
       "    <tr>\n",
       "      <th>3</th>\n",
       "      <td>1</td>\n",
       "      <td>26295</td>\n",
       "      <td>33</td>\n",
       "      <td>122</td>\n",
       "      <td>0.270492</td>\n",
       "    </tr>\n",
       "    <tr>\n",
       "      <th>4</th>\n",
       "      <td>1</td>\n",
       "      <td>18392</td>\n",
       "      <td>7</td>\n",
       "      <td>32</td>\n",
       "      <td>0.218750</td>\n",
       "    </tr>\n",
       "  </tbody>\n",
       "</table>\n",
       "</div>"
      ],
      "text/plain": [
       "   exp_group  user_id  likes  views       ctr\n",
       "0          1   109963      3     15  0.200000\n",
       "1          1    26117     32    141  0.226950\n",
       "2          1   138232     18     73  0.246575\n",
       "3          1    26295     33    122  0.270492\n",
       "4          1    18392      7     32  0.218750"
      ]
     },
     "execution_count": 3,
     "metadata": {},
     "output_type": "execute_result"
    }
   ],
   "source": [
    "connection = {'host': ,\n",
    "                      'database':,\n",
    "                      'user':, \n",
    "                      'password':\n",
    "                     }\n",
    "\n",
    "q = \"\"\"\n",
    "SELECT exp_group, \n",
    "    user_id,\n",
    "    sum(action = 'like') as likes,\n",
    "    sum(action = 'view') as views,\n",
    "    likes/views as ctr\n",
    "FROM {db}.feed_actions \n",
    "WHERE toDate(time) between '2023-01-31' and '2023-02-06'\n",
    "    and exp_group in (1,2)\n",
    "GROUP BY exp_group, user_id\n",
    "\"\"\"\n",
    "\n",
    "df = ph.read_clickhouse(q, connection=connection)\n",
    "\n",
    "df.head()"
   ]
  },
  {
   "cell_type": "markdown",
   "id": "6711a783-cbc5-4736-89ce-86961f2cae16",
   "metadata": {
    "tags": []
   },
   "source": [
    "Посмотрим общее описание по каждой группе"
   ]
  },
  {
   "cell_type": "code",
   "execution_count": 4,
   "id": "caa01263-c0d6-4c4f-a2d5-e5b9f67ab04d",
   "metadata": {},
   "outputs": [
    {
     "data": {
      "text/html": [
       "<div>\n",
       "<style scoped>\n",
       "    .dataframe tbody tr th:only-of-type {\n",
       "        vertical-align: middle;\n",
       "    }\n",
       "\n",
       "    .dataframe tbody tr th {\n",
       "        vertical-align: top;\n",
       "    }\n",
       "\n",
       "    .dataframe thead th {\n",
       "        text-align: right;\n",
       "    }\n",
       "</style>\n",
       "<table border=\"1\" class=\"dataframe\">\n",
       "  <thead>\n",
       "    <tr style=\"text-align: right;\">\n",
       "      <th></th>\n",
       "      <th>exp_group</th>\n",
       "      <th>user_id</th>\n",
       "      <th>likes</th>\n",
       "      <th>views</th>\n",
       "      <th>ctr</th>\n",
       "    </tr>\n",
       "  </thead>\n",
       "  <tbody>\n",
       "    <tr>\n",
       "      <th>count</th>\n",
       "      <td>10079.0</td>\n",
       "      <td>10079.000000</td>\n",
       "      <td>10079.000000</td>\n",
       "      <td>10079.000000</td>\n",
       "      <td>10079.000000</td>\n",
       "    </tr>\n",
       "    <tr>\n",
       "      <th>mean</th>\n",
       "      <td>1.0</td>\n",
       "      <td>75540.955948</td>\n",
       "      <td>13.792142</td>\n",
       "      <td>66.299831</td>\n",
       "      <td>0.215605</td>\n",
       "    </tr>\n",
       "    <tr>\n",
       "      <th>std</th>\n",
       "      <td>0.0</td>\n",
       "      <td>53211.834816</td>\n",
       "      <td>9.798990</td>\n",
       "      <td>45.043411</td>\n",
       "      <td>0.084160</td>\n",
       "    </tr>\n",
       "    <tr>\n",
       "      <th>min</th>\n",
       "      <td>1.0</td>\n",
       "      <td>206.000000</td>\n",
       "      <td>0.000000</td>\n",
       "      <td>2.000000</td>\n",
       "      <td>0.000000</td>\n",
       "    </tr>\n",
       "    <tr>\n",
       "      <th>25%</th>\n",
       "      <td>1.0</td>\n",
       "      <td>22227.000000</td>\n",
       "      <td>7.000000</td>\n",
       "      <td>32.000000</td>\n",
       "      <td>0.160097</td>\n",
       "    </tr>\n",
       "    <tr>\n",
       "      <th>50%</th>\n",
       "      <td>1.0</td>\n",
       "      <td>109360.000000</td>\n",
       "      <td>12.000000</td>\n",
       "      <td>56.000000</td>\n",
       "      <td>0.203125</td>\n",
       "    </tr>\n",
       "    <tr>\n",
       "      <th>75%</th>\n",
       "      <td>1.0</td>\n",
       "      <td>126200.500000</td>\n",
       "      <td>19.000000</td>\n",
       "      <td>90.000000</td>\n",
       "      <td>0.257654</td>\n",
       "    </tr>\n",
       "    <tr>\n",
       "      <th>max</th>\n",
       "      <td>1.0</td>\n",
       "      <td>140500.000000</td>\n",
       "      <td>81.000000</td>\n",
       "      <td>311.000000</td>\n",
       "      <td>0.722222</td>\n",
       "    </tr>\n",
       "  </tbody>\n",
       "</table>\n",
       "</div>"
      ],
      "text/plain": [
       "       exp_group        user_id         likes         views           ctr\n",
       "count    10079.0   10079.000000  10079.000000  10079.000000  10079.000000\n",
       "mean         1.0   75540.955948     13.792142     66.299831      0.215605\n",
       "std          0.0   53211.834816      9.798990     45.043411      0.084160\n",
       "min          1.0     206.000000      0.000000      2.000000      0.000000\n",
       "25%          1.0   22227.000000      7.000000     32.000000      0.160097\n",
       "50%          1.0  109360.000000     12.000000     56.000000      0.203125\n",
       "75%          1.0  126200.500000     19.000000     90.000000      0.257654\n",
       "max          1.0  140500.000000     81.000000    311.000000      0.722222"
      ]
     },
     "execution_count": 4,
     "metadata": {},
     "output_type": "execute_result"
    }
   ],
   "source": [
    "df[df.exp_group == 1].describe()"
   ]
  },
  {
   "cell_type": "code",
   "execution_count": 5,
   "id": "6ec27f30-ea71-4cde-bb37-3534149b0620",
   "metadata": {},
   "outputs": [
    {
     "data": {
      "text/html": [
       "<div>\n",
       "<style scoped>\n",
       "    .dataframe tbody tr th:only-of-type {\n",
       "        vertical-align: middle;\n",
       "    }\n",
       "\n",
       "    .dataframe tbody tr th {\n",
       "        vertical-align: top;\n",
       "    }\n",
       "\n",
       "    .dataframe thead th {\n",
       "        text-align: right;\n",
       "    }\n",
       "</style>\n",
       "<table border=\"1\" class=\"dataframe\">\n",
       "  <thead>\n",
       "    <tr style=\"text-align: right;\">\n",
       "      <th></th>\n",
       "      <th>exp_group</th>\n",
       "      <th>user_id</th>\n",
       "      <th>likes</th>\n",
       "      <th>views</th>\n",
       "      <th>ctr</th>\n",
       "    </tr>\n",
       "  </thead>\n",
       "  <tbody>\n",
       "    <tr>\n",
       "      <th>count</th>\n",
       "      <td>9952.0</td>\n",
       "      <td>9952.000000</td>\n",
       "      <td>9952.000000</td>\n",
       "      <td>9952.000000</td>\n",
       "      <td>9952.000000</td>\n",
       "    </tr>\n",
       "    <tr>\n",
       "      <th>mean</th>\n",
       "      <td>2.0</td>\n",
       "      <td>75142.800543</td>\n",
       "      <td>13.101387</td>\n",
       "      <td>66.148513</td>\n",
       "      <td>0.214419</td>\n",
       "    </tr>\n",
       "    <tr>\n",
       "      <th>std</th>\n",
       "      <td>0.0</td>\n",
       "      <td>53315.378033</td>\n",
       "      <td>11.838030</td>\n",
       "      <td>45.151210</td>\n",
       "      <td>0.144180</td>\n",
       "    </tr>\n",
       "    <tr>\n",
       "      <th>min</th>\n",
       "      <td>2.0</td>\n",
       "      <td>220.000000</td>\n",
       "      <td>0.000000</td>\n",
       "      <td>1.000000</td>\n",
       "      <td>0.000000</td>\n",
       "    </tr>\n",
       "    <tr>\n",
       "      <th>25%</th>\n",
       "      <td>2.0</td>\n",
       "      <td>21904.250000</td>\n",
       "      <td>5.000000</td>\n",
       "      <td>32.000000</td>\n",
       "      <td>0.095238</td>\n",
       "    </tr>\n",
       "    <tr>\n",
       "      <th>50%</th>\n",
       "      <td>2.0</td>\n",
       "      <td>109112.500000</td>\n",
       "      <td>9.000000</td>\n",
       "      <td>56.000000</td>\n",
       "      <td>0.142857</td>\n",
       "    </tr>\n",
       "    <tr>\n",
       "      <th>75%</th>\n",
       "      <td>2.0</td>\n",
       "      <td>126228.250000</td>\n",
       "      <td>17.000000</td>\n",
       "      <td>91.000000</td>\n",
       "      <td>0.325000</td>\n",
       "    </tr>\n",
       "    <tr>\n",
       "      <th>max</th>\n",
       "      <td>2.0</td>\n",
       "      <td>141164.000000</td>\n",
       "      <td>95.000000</td>\n",
       "      <td>321.000000</td>\n",
       "      <td>0.923077</td>\n",
       "    </tr>\n",
       "  </tbody>\n",
       "</table>\n",
       "</div>"
      ],
      "text/plain": [
       "       exp_group        user_id        likes        views          ctr\n",
       "count     9952.0    9952.000000  9952.000000  9952.000000  9952.000000\n",
       "mean         2.0   75142.800543    13.101387    66.148513     0.214419\n",
       "std          0.0   53315.378033    11.838030    45.151210     0.144180\n",
       "min          2.0     220.000000     0.000000     1.000000     0.000000\n",
       "25%          2.0   21904.250000     5.000000    32.000000     0.095238\n",
       "50%          2.0  109112.500000     9.000000    56.000000     0.142857\n",
       "75%          2.0  126228.250000    17.000000    91.000000     0.325000\n",
       "max          2.0  141164.000000    95.000000   321.000000     0.923077"
      ]
     },
     "execution_count": 5,
     "metadata": {},
     "output_type": "execute_result"
    }
   ],
   "source": [
    "df[df.exp_group == 2].describe()"
   ]
  },
  {
   "cell_type": "code",
   "execution_count": 6,
   "id": "e82a2cfa-f0b4-4a45-9a89-9c9685373195",
   "metadata": {},
   "outputs": [
    {
     "name": "stdout",
     "output_type": "stream",
     "text": [
      "Количество пользователей в группах отличаются на 1.28 %\n"
     ]
    }
   ],
   "source": [
    "print('Количество пользователей в группах отличаются на',\\\n",
    "      f'{round((abs(1-df[df.exp_group == 1].user_id.nunique()/df[df.exp_group == 2].user_id.nunique()))*100, 2)} %')"
   ]
  },
  {
   "cell_type": "code",
   "execution_count": 7,
   "id": "a376e5ee-ef26-4fc8-aad6-eda080f738fb",
   "metadata": {},
   "outputs": [
    {
     "name": "stdout",
     "output_type": "stream",
     "text": [
      "Средние значения CTR группах отличаются на 0.0012 \n"
     ]
    }
   ],
   "source": [
    "print('Средние значения CTR группах отличаются на',\\\n",
    "      f'{round(abs(df[df.exp_group == 1].ctr.mean()-df[df.exp_group == 2].ctr.mean()), 4)} ')"
   ]
  },
  {
   "cell_type": "markdown",
   "id": "0a4c639b-d424-48b1-a1a5-398836297354",
   "metadata": {
    "tags": []
   },
   "source": [
    "В группе 2 меньше, чем в группе 1"
   ]
  },
  {
   "cell_type": "code",
   "execution_count": 8,
   "id": "12d79ec2-b03f-4c3e-8788-a3df33ea041e",
   "metadata": {
    "tags": []
   },
   "outputs": [
    {
     "name": "stdout",
     "output_type": "stream",
     "text": [
      "Медианные значения CTR группах отличаются на 0.0603 \n"
     ]
    }
   ],
   "source": [
    "print('Медианные значения CTR группах отличаются на',\\\n",
    "      f'{round(abs(df[df.exp_group == 1].ctr.median()-df[df.exp_group == 2].ctr.median()), 4)} ')"
   ]
  },
  {
   "cell_type": "markdown",
   "id": "b3b78b62-7751-4c7a-bb6f-6e26fd2ccbf1",
   "metadata": {
    "tags": []
   },
   "source": [
    "В группе 2 меньше, чем в группе 1"
   ]
  },
  {
   "cell_type": "code",
   "execution_count": 9,
   "id": "19ed3dd6-8de3-4530-b149-e1ede1bdba9f",
   "metadata": {},
   "outputs": [
    {
     "data": {
      "image/png": "[encoded data removed]",
      "text/plain": [
       "<Figure size 864x576 with 1 Axes>"
      ]
     },
     "metadata": {},
     "output_type": "display_data"
    }
   ],
   "source": [
    "#посмотрим визуально распределение ctr в наших группах\n",
    "groups = sns.histplot(data = df, \n",
    "              x='ctr', \n",
    "              hue='exp_group', \n",
    "              palette = ['r', 'b'],\n",
    "              alpha=0.5,\n",
    "              kde=False)"
   ]
  },
  {
   "cell_type": "markdown",
   "id": "6ca4c070-0370-4ccd-9cbc-c4075be69a99",
   "metadata": {},
   "source": [
    "Визуально распределения CTR разные. Если контрольная группа как-то напоминает нормальное распределение, то экспериментальная точно нет: \"двугорбое\" распределение и как будто пользователи поделились на 2 группы: одна с малыми значениями CTR, а для второй характерны более высокие CTR. "
   ]
  },
  {
   "cell_type": "code",
   "execution_count": 10,
   "id": "325c31a6-2eb5-42e0-962e-d158a32778e1",
   "metadata": {
    "tags": []
   },
   "outputs": [
    {
     "data": {
      "text/plain": [
       "0.20802680490126244"
      ]
     },
     "execution_count": 10,
     "metadata": {},
     "output_type": "execute_result"
    }
   ],
   "source": [
    "#Считаем общий CTR в контрольной группе:  𝐶𝑇𝑅𝑐𝑜𝑛𝑡𝑟𝑜𝑙=𝑠𝑢𝑚(𝑙𝑖𝑘𝑒𝑠)/𝑠𝑢𝑚(𝑣𝑖𝑒𝑤𝑠)\n",
    "ctr_control = df[df.exp_group == 1].likes.sum()/df[df.exp_group == 1].views.sum()\n",
    "ctr_control"
   ]
  },
  {
   "cell_type": "code",
   "execution_count": 11,
   "id": "36c7f853-d268-4637-ade3-401a200bba79",
   "metadata": {},
   "outputs": [
    {
     "data": {
      "text/html": [
       "<div>\n",
       "<style scoped>\n",
       "    .dataframe tbody tr th:only-of-type {\n",
       "        vertical-align: middle;\n",
       "    }\n",
       "\n",
       "    .dataframe tbody tr th {\n",
       "        vertical-align: top;\n",
       "    }\n",
       "\n",
       "    .dataframe thead th {\n",
       "        text-align: right;\n",
       "    }\n",
       "</style>\n",
       "<table border=\"1\" class=\"dataframe\">\n",
       "  <thead>\n",
       "    <tr style=\"text-align: right;\">\n",
       "      <th></th>\n",
       "      <th>exp_group</th>\n",
       "      <th>user_id</th>\n",
       "      <th>likes</th>\n",
       "      <th>views</th>\n",
       "      <th>ctr</th>\n",
       "      <th>linearize_likes</th>\n",
       "    </tr>\n",
       "  </thead>\n",
       "  <tbody>\n",
       "    <tr>\n",
       "      <th>0</th>\n",
       "      <td>1</td>\n",
       "      <td>109963</td>\n",
       "      <td>3</td>\n",
       "      <td>15</td>\n",
       "      <td>0.200000</td>\n",
       "      <td>-0.120402</td>\n",
       "    </tr>\n",
       "    <tr>\n",
       "      <th>1</th>\n",
       "      <td>1</td>\n",
       "      <td>26117</td>\n",
       "      <td>32</td>\n",
       "      <td>141</td>\n",
       "      <td>0.226950</td>\n",
       "      <td>2.668221</td>\n",
       "    </tr>\n",
       "    <tr>\n",
       "      <th>2</th>\n",
       "      <td>1</td>\n",
       "      <td>138232</td>\n",
       "      <td>18</td>\n",
       "      <td>73</td>\n",
       "      <td>0.246575</td>\n",
       "      <td>2.814043</td>\n",
       "    </tr>\n",
       "    <tr>\n",
       "      <th>3</th>\n",
       "      <td>1</td>\n",
       "      <td>26295</td>\n",
       "      <td>33</td>\n",
       "      <td>122</td>\n",
       "      <td>0.270492</td>\n",
       "      <td>7.620730</td>\n",
       "    </tr>\n",
       "    <tr>\n",
       "      <th>4</th>\n",
       "      <td>1</td>\n",
       "      <td>18392</td>\n",
       "      <td>7</td>\n",
       "      <td>32</td>\n",
       "      <td>0.218750</td>\n",
       "      <td>0.343142</td>\n",
       "    </tr>\n",
       "  </tbody>\n",
       "</table>\n",
       "</div>"
      ],
      "text/plain": [
       "   exp_group  user_id  likes  views       ctr  linearize_likes\n",
       "0          1   109963      3     15  0.200000        -0.120402\n",
       "1          1    26117     32    141  0.226950         2.668221\n",
       "2          1   138232     18     73  0.246575         2.814043\n",
       "3          1    26295     33    122  0.270492         7.620730\n",
       "4          1    18392      7     32  0.218750         0.343142"
      ]
     },
     "execution_count": 11,
     "metadata": {},
     "output_type": "execute_result"
    }
   ],
   "source": [
    "#Посчитаем в обеих группах поюзерную метрику:  𝑙𝑖𝑛𝑒𝑎𝑟𝑖𝑧𝑒𝑑_𝑙𝑖𝑘𝑒𝑠=𝑙𝑖𝑘𝑒𝑠−𝐶𝑇𝑅𝑐𝑜𝑛𝑡𝑟𝑜𝑙∗𝑣𝑖𝑒𝑤𝑠\n",
    "df['linearize_likes'] = df.likes - ctr_control*df.views\n",
    "df.head()"
   ]
  },
  {
   "cell_type": "code",
   "execution_count": 12,
   "id": "85a8883e-27dc-4751-97b9-74b7ef3f440a",
   "metadata": {},
   "outputs": [
    {
     "data": {
      "image/png": "[encoded data removed]",
      "text/plain": [
       "<Figure size 864x576 with 1 Axes>"
      ]
     },
     "metadata": {},
     "output_type": "display_data"
    }
   ],
   "source": [
    "#посмотрим визуально распределение linearize_likes в наших группах\n",
    "groups = sns.histplot(data = df, \n",
    "              x='linearize_likes', \n",
    "              hue='exp_group', \n",
    "              palette = ['r', 'b'],\n",
    "              alpha=0.5,\n",
    "              kde=False)"
   ]
  },
  {
   "cell_type": "markdown",
   "id": "84749b9b-d535-4ad9-9464-d853972d5807",
   "metadata": {},
   "source": [
    "Распределения очень разные. Даже если не брать во внимание \"двугорбость\" второй группы. распределение второй группы больше сосредоточено в отрицательных значениях."
   ]
  },
  {
   "cell_type": "code",
   "execution_count": 13,
   "id": "429d7629-5f9e-42d9-8332-d0d562871127",
   "metadata": {},
   "outputs": [
    {
     "data": {
      "text/plain": [
       "Ttest_indResult(statistic=6.122579994775972, pvalue=9.439432187037712e-10)"
      ]
     },
     "execution_count": 13,
     "metadata": {},
     "output_type": "execute_result"
    }
   ],
   "source": [
    "#сравним  t-тестом отличия в группах по метрике 𝑙𝑖𝑛𝑒𝑎𝑟𝑖𝑧𝑒𝑑_𝑙𝑖𝑘𝑒𝑠\n",
    "stats.ttest_ind(df[df.exp_group == 1].linearize_likes,\n",
    "                df[df.exp_group == 2].linearize_likes,\n",
    "                equal_var=False)"
   ]
  },
  {
   "cell_type": "code",
   "execution_count": 14,
   "id": "fec2cff4-44e1-4cf5-822d-dac1d9668be5",
   "metadata": {
    "tags": []
   },
   "outputs": [
    {
     "data": {
      "text/plain": [
       "Ttest_indResult(statistic=0.7094392041270486, pvalue=0.4780623130874935)"
      ]
     },
     "execution_count": 14,
     "metadata": {},
     "output_type": "execute_result"
    }
   ],
   "source": [
    "#теперь сравним  t-тестом отличия в группах по метрике ctr\n",
    "stats.ttest_ind(df[df.exp_group == 1].ctr,\n",
    "                df[df.exp_group == 2].ctr,\n",
    "                equal_var=False)"
   ]
  },
  {
   "cell_type": "markdown",
   "id": "1194dd92-8b52-48a7-af21-95eccf6b2c90",
   "metadata": {},
   "source": [
    "pvalue > 0.05. t-test по метрике ctr подтверждает гипотезу о равенстве ctr групп 1 и 2\n"
   ]
  },
  {
   "cell_type": "markdown",
   "id": "a1f41c80-221d-4e3c-9695-4abbdd026455",
   "metadata": {},
   "source": [
    "### Вывод из анализа AB теста 1 и 2 групп\n"
   ]
  },
  {
   "cell_type": "markdown",
   "id": "ed279970-3b47-4371-a9e5-02b899d8e312",
   "metadata": {},
   "source": [
    "Первый тест по метрике linearize_likes более чувствителен и показывает, что отличия между группами есть. t-test по метрике ctr , говорит, что группы одинаковые. Мне кажется, что при таком распределении данных во второй группе вообще не коректно использовать просто t-test."
   ]
  },
  {
   "cell_type": "markdown",
   "id": "9a7ab552-0d05-4030-866b-0c420b4f288c",
   "metadata": {
    "tags": []
   },
   "source": [
    "## AB тест для групп 0 и 3\n"
   ]
  },
  {
   "cell_type": "code",
   "execution_count": 15,
   "id": "1c608c39-4c7d-4623-a2df-e6ce74402d5b",
   "metadata": {
    "tags": []
   },
   "outputs": [
    {
     "data": {
      "text/html": [
       "<div>\n",
       "<style scoped>\n",
       "    .dataframe tbody tr th:only-of-type {\n",
       "        vertical-align: middle;\n",
       "    }\n",
       "\n",
       "    .dataframe tbody tr th {\n",
       "        vertical-align: top;\n",
       "    }\n",
       "\n",
       "    .dataframe thead th {\n",
       "        text-align: right;\n",
       "    }\n",
       "</style>\n",
       "<table border=\"1\" class=\"dataframe\">\n",
       "  <thead>\n",
       "    <tr style=\"text-align: right;\">\n",
       "      <th></th>\n",
       "      <th>exp_group</th>\n",
       "      <th>user_id</th>\n",
       "      <th>likes</th>\n",
       "      <th>views</th>\n",
       "      <th>ctr</th>\n",
       "    </tr>\n",
       "  </thead>\n",
       "  <tbody>\n",
       "    <tr>\n",
       "      <th>0</th>\n",
       "      <td>3</td>\n",
       "      <td>115383</td>\n",
       "      <td>9</td>\n",
       "      <td>30</td>\n",
       "      <td>0.300000</td>\n",
       "    </tr>\n",
       "    <tr>\n",
       "      <th>1</th>\n",
       "      <td>3</td>\n",
       "      <td>123580</td>\n",
       "      <td>13</td>\n",
       "      <td>48</td>\n",
       "      <td>0.270833</td>\n",
       "    </tr>\n",
       "    <tr>\n",
       "      <th>2</th>\n",
       "      <td>0</td>\n",
       "      <td>4944</td>\n",
       "      <td>8</td>\n",
       "      <td>41</td>\n",
       "      <td>0.195122</td>\n",
       "    </tr>\n",
       "    <tr>\n",
       "      <th>3</th>\n",
       "      <td>0</td>\n",
       "      <td>4504</td>\n",
       "      <td>5</td>\n",
       "      <td>15</td>\n",
       "      <td>0.333333</td>\n",
       "    </tr>\n",
       "    <tr>\n",
       "      <th>4</th>\n",
       "      <td>0</td>\n",
       "      <td>121508</td>\n",
       "      <td>18</td>\n",
       "      <td>88</td>\n",
       "      <td>0.204545</td>\n",
       "    </tr>\n",
       "  </tbody>\n",
       "</table>\n",
       "</div>"
      ],
      "text/plain": [
       "   exp_group  user_id  likes  views       ctr\n",
       "0          3   115383      9     30  0.300000\n",
       "1          3   123580     13     48  0.270833\n",
       "2          0     4944      8     41  0.195122\n",
       "3          0     4504      5     15  0.333333\n",
       "4          0   121508     18     88  0.204545"
      ]
     },
     "execution_count": 15,
     "metadata": {},
     "output_type": "execute_result"
    }
   ],
   "source": [
    "q = \"\"\"\n",
    "SELECT exp_group, \n",
    "    user_id,\n",
    "    sum(action = 'like') as likes,\n",
    "    sum(action = 'view') as views,\n",
    "    likes/views as ctr\n",
    "FROM {db}.feed_actions \n",
    "WHERE toDate(time) between '2023-01-31' and '2023-02-06'\n",
    "    and exp_group in (0,3)\n",
    "GROUP BY exp_group, user_id\n",
    "\"\"\"\n",
    "\n",
    "df1 = ph.read_clickhouse(q, connection=connection)\n",
    "\n",
    "df1.head()"
   ]
  },
  {
   "cell_type": "markdown",
   "id": "c28cf3ac-313c-4dd6-97ff-0e4966950a93",
   "metadata": {
    "tags": []
   },
   "source": [
    "Посмотрим общее описание по каждой группе"
   ]
  },
  {
   "cell_type": "code",
   "execution_count": 16,
   "id": "39936fea-e564-45e1-9e13-178b9e225b11",
   "metadata": {},
   "outputs": [
    {
     "data": {
      "text/html": [
       "<div>\n",
       "<style scoped>\n",
       "    .dataframe tbody tr th:only-of-type {\n",
       "        vertical-align: middle;\n",
       "    }\n",
       "\n",
       "    .dataframe tbody tr th {\n",
       "        vertical-align: top;\n",
       "    }\n",
       "\n",
       "    .dataframe thead th {\n",
       "        text-align: right;\n",
       "    }\n",
       "</style>\n",
       "<table border=\"1\" class=\"dataframe\">\n",
       "  <thead>\n",
       "    <tr style=\"text-align: right;\">\n",
       "      <th></th>\n",
       "      <th>exp_group</th>\n",
       "      <th>user_id</th>\n",
       "      <th>likes</th>\n",
       "      <th>views</th>\n",
       "      <th>ctr</th>\n",
       "    </tr>\n",
       "  </thead>\n",
       "  <tbody>\n",
       "    <tr>\n",
       "      <th>count</th>\n",
       "      <td>9999.0</td>\n",
       "      <td>9999.000000</td>\n",
       "      <td>9999.000000</td>\n",
       "      <td>9999.000000</td>\n",
       "      <td>9999.000000</td>\n",
       "    </tr>\n",
       "    <tr>\n",
       "      <th>mean</th>\n",
       "      <td>0.0</td>\n",
       "      <td>76733.355236</td>\n",
       "      <td>13.987599</td>\n",
       "      <td>67.171817</td>\n",
       "      <td>0.215950</td>\n",
       "    </tr>\n",
       "    <tr>\n",
       "      <th>std</th>\n",
       "      <td>0.0</td>\n",
       "      <td>53121.995152</td>\n",
       "      <td>9.992538</td>\n",
       "      <td>45.541362</td>\n",
       "      <td>0.083628</td>\n",
       "    </tr>\n",
       "    <tr>\n",
       "      <th>min</th>\n",
       "      <td>0.0</td>\n",
       "      <td>201.000000</td>\n",
       "      <td>0.000000</td>\n",
       "      <td>1.000000</td>\n",
       "      <td>0.000000</td>\n",
       "    </tr>\n",
       "    <tr>\n",
       "      <th>25%</th>\n",
       "      <td>0.0</td>\n",
       "      <td>22537.000000</td>\n",
       "      <td>7.000000</td>\n",
       "      <td>32.000000</td>\n",
       "      <td>0.162162</td>\n",
       "    </tr>\n",
       "    <tr>\n",
       "      <th>50%</th>\n",
       "      <td>0.0</td>\n",
       "      <td>109916.000000</td>\n",
       "      <td>12.000000</td>\n",
       "      <td>57.000000</td>\n",
       "      <td>0.202899</td>\n",
       "    </tr>\n",
       "    <tr>\n",
       "      <th>75%</th>\n",
       "      <td>0.0</td>\n",
       "      <td>126891.000000</td>\n",
       "      <td>19.000000</td>\n",
       "      <td>91.000000</td>\n",
       "      <td>0.257143</td>\n",
       "    </tr>\n",
       "    <tr>\n",
       "      <th>max</th>\n",
       "      <td>0.0</td>\n",
       "      <td>140487.000000</td>\n",
       "      <td>88.000000</td>\n",
       "      <td>363.000000</td>\n",
       "      <td>0.777778</td>\n",
       "    </tr>\n",
       "  </tbody>\n",
       "</table>\n",
       "</div>"
      ],
      "text/plain": [
       "       exp_group        user_id        likes        views          ctr\n",
       "count     9999.0    9999.000000  9999.000000  9999.000000  9999.000000\n",
       "mean         0.0   76733.355236    13.987599    67.171817     0.215950\n",
       "std          0.0   53121.995152     9.992538    45.541362     0.083628\n",
       "min          0.0     201.000000     0.000000     1.000000     0.000000\n",
       "25%          0.0   22537.000000     7.000000    32.000000     0.162162\n",
       "50%          0.0  109916.000000    12.000000    57.000000     0.202899\n",
       "75%          0.0  126891.000000    19.000000    91.000000     0.257143\n",
       "max          0.0  140487.000000    88.000000   363.000000     0.777778"
      ]
     },
     "execution_count": 16,
     "metadata": {},
     "output_type": "execute_result"
    }
   ],
   "source": [
    "df1[df1.exp_group == 0].describe()\n"
   ]
  },
  {
   "cell_type": "code",
   "execution_count": 17,
   "id": "8d5f0b1b-a1f2-410d-922f-503772b79212",
   "metadata": {},
   "outputs": [
    {
     "data": {
      "text/html": [
       "<div>\n",
       "<style scoped>\n",
       "    .dataframe tbody tr th:only-of-type {\n",
       "        vertical-align: middle;\n",
       "    }\n",
       "\n",
       "    .dataframe tbody tr th {\n",
       "        vertical-align: top;\n",
       "    }\n",
       "\n",
       "    .dataframe thead th {\n",
       "        text-align: right;\n",
       "    }\n",
       "</style>\n",
       "<table border=\"1\" class=\"dataframe\">\n",
       "  <thead>\n",
       "    <tr style=\"text-align: right;\">\n",
       "      <th></th>\n",
       "      <th>exp_group</th>\n",
       "      <th>user_id</th>\n",
       "      <th>likes</th>\n",
       "      <th>views</th>\n",
       "      <th>ctr</th>\n",
       "    </tr>\n",
       "  </thead>\n",
       "  <tbody>\n",
       "    <tr>\n",
       "      <th>count</th>\n",
       "      <td>10049.0</td>\n",
       "      <td>10049.000000</td>\n",
       "      <td>10049.000000</td>\n",
       "      <td>10049.000000</td>\n",
       "      <td>10049.000000</td>\n",
       "    </tr>\n",
       "    <tr>\n",
       "      <th>mean</th>\n",
       "      <td>3.0</td>\n",
       "      <td>75044.407304</td>\n",
       "      <td>14.962583</td>\n",
       "      <td>66.709125</td>\n",
       "      <td>0.232624</td>\n",
       "    </tr>\n",
       "    <tr>\n",
       "      <th>std</th>\n",
       "      <td>0.0</td>\n",
       "      <td>53299.776433</td>\n",
       "      <td>10.581350</td>\n",
       "      <td>45.811361</td>\n",
       "      <td>0.086247</td>\n",
       "    </tr>\n",
       "    <tr>\n",
       "      <th>min</th>\n",
       "      <td>3.0</td>\n",
       "      <td>200.000000</td>\n",
       "      <td>0.000000</td>\n",
       "      <td>1.000000</td>\n",
       "      <td>0.000000</td>\n",
       "    </tr>\n",
       "    <tr>\n",
       "      <th>25%</th>\n",
       "      <td>3.0</td>\n",
       "      <td>22166.000000</td>\n",
       "      <td>7.000000</td>\n",
       "      <td>32.000000</td>\n",
       "      <td>0.176471</td>\n",
       "    </tr>\n",
       "    <tr>\n",
       "      <th>50%</th>\n",
       "      <td>3.0</td>\n",
       "      <td>109057.000000</td>\n",
       "      <td>13.000000</td>\n",
       "      <td>56.000000</td>\n",
       "      <td>0.220339</td>\n",
       "    </tr>\n",
       "    <tr>\n",
       "      <th>75%</th>\n",
       "      <td>3.0</td>\n",
       "      <td>126252.000000</td>\n",
       "      <td>20.000000</td>\n",
       "      <td>91.000000</td>\n",
       "      <td>0.276786</td>\n",
       "    </tr>\n",
       "    <tr>\n",
       "      <th>max</th>\n",
       "      <td>3.0</td>\n",
       "      <td>140489.000000</td>\n",
       "      <td>107.000000</td>\n",
       "      <td>373.000000</td>\n",
       "      <td>0.818182</td>\n",
       "    </tr>\n",
       "  </tbody>\n",
       "</table>\n",
       "</div>"
      ],
      "text/plain": [
       "       exp_group        user_id         likes         views           ctr\n",
       "count    10049.0   10049.000000  10049.000000  10049.000000  10049.000000\n",
       "mean         3.0   75044.407304     14.962583     66.709125      0.232624\n",
       "std          0.0   53299.776433     10.581350     45.811361      0.086247\n",
       "min          3.0     200.000000      0.000000      1.000000      0.000000\n",
       "25%          3.0   22166.000000      7.000000     32.000000      0.176471\n",
       "50%          3.0  109057.000000     13.000000     56.000000      0.220339\n",
       "75%          3.0  126252.000000     20.000000     91.000000      0.276786\n",
       "max          3.0  140489.000000    107.000000    373.000000      0.818182"
      ]
     },
     "execution_count": 17,
     "metadata": {},
     "output_type": "execute_result"
    }
   ],
   "source": [
    "df1[df1.exp_group == 3].describe()\n",
    "\n"
   ]
  },
  {
   "cell_type": "code",
   "execution_count": 18,
   "id": "89f66680-b609-4d91-bf1c-7630558cf2a0",
   "metadata": {},
   "outputs": [
    {
     "name": "stdout",
     "output_type": "stream",
     "text": [
      "Количество пользователей в группах отличаются на 0.5 %\n"
     ]
    }
   ],
   "source": [
    "print('Количество пользователей в группах отличаются на',\\\n",
    "      f'{round((1-df1[df1.exp_group == 0].user_id.nunique()/df1[df1.exp_group == 3].user_id.nunique())*100, 2)} %')"
   ]
  },
  {
   "cell_type": "code",
   "execution_count": 19,
   "id": "4e7de6b4-ca88-4412-ab10-542f62a8f54f",
   "metadata": {},
   "outputs": [
    {
     "name": "stdout",
     "output_type": "stream",
     "text": [
      "Средние значения CTR группах отличаются на 0.0167 \n"
     ]
    }
   ],
   "source": [
    "print('Средние значения CTR группах отличаются на',\\\n",
    "      f'{round(abs(df1[df1.exp_group == 0].ctr.mean()-df1[df1.exp_group == 3].ctr.mean()), 4)} ')"
   ]
  },
  {
   "cell_type": "code",
   "execution_count": 20,
   "id": "2ce93ab1-9ce4-4810-b382-b19491d9aef7",
   "metadata": {},
   "outputs": [
    {
     "name": "stdout",
     "output_type": "stream",
     "text": [
      "Медианные значения CTR группах отличаются на 0.0174 \n"
     ]
    }
   ],
   "source": [
    "print('Медианные значения CTR группах отличаются на',\\\n",
    "      f'{round(abs(df1[df1.exp_group == 0].ctr.median()-df1[df1.exp_group == 3].ctr.median()), 4)} ')"
   ]
  },
  {
   "cell_type": "code",
   "execution_count": 21,
   "id": "a28e57d4-b88e-4ed2-a66a-3ba62b3d048d",
   "metadata": {},
   "outputs": [
    {
     "data": {
      "image/png": "[encoded data removed]",
      "text/plain": [
       "<Figure size 864x576 with 1 Axes>"
      ]
     },
     "metadata": {},
     "output_type": "display_data"
    }
   ],
   "source": [
    "#посмотрим визуально распределение ctr в наших группах\n",
    "groups = sns.histplot(data = df1, \n",
    "              x='ctr', \n",
    "              hue='exp_group', \n",
    "              palette = ['r', 'b'],\n",
    "              alpha=0.5,\n",
    "              kde=False)"
   ]
  },
  {
   "cell_type": "markdown",
   "id": "d2eaf971-6e5f-4ee7-8ddd-6caa9a4d6ec6",
   "metadata": {},
   "source": [
    "Визуально распределения CTR разные. Распределение группы 3 чуть правее распределения группы 0."
   ]
  },
  {
   "cell_type": "code",
   "execution_count": 22,
   "id": "ba7b11ab-0f6f-4dda-b7d0-e2c3586b7595",
   "metadata": {
    "tags": []
   },
   "outputs": [
    {
     "data": {
      "text/plain": [
       "0.20823612262916305"
      ]
     },
     "execution_count": 22,
     "metadata": {},
     "output_type": "execute_result"
    }
   ],
   "source": [
    "#Считаем общий CTR в контрольной группе:  𝐶𝑇𝑅𝑐𝑜𝑛𝑡𝑟𝑜𝑙=𝑠𝑢𝑚(𝑙𝑖𝑘𝑒𝑠)/𝑠𝑢𝑚(𝑣𝑖𝑒𝑤𝑠)\n",
    "ctr_control = df1[df1.exp_group == 0].likes.sum()/df1[df1.exp_group == 0].views.sum()\n",
    "ctr_control"
   ]
  },
  {
   "cell_type": "code",
   "execution_count": 23,
   "id": "031b2143-ce87-4ad0-8584-877628570023",
   "metadata": {
    "tags": []
   },
   "outputs": [
    {
     "data": {
      "text/html": [
       "<div>\n",
       "<style scoped>\n",
       "    .dataframe tbody tr th:only-of-type {\n",
       "        vertical-align: middle;\n",
       "    }\n",
       "\n",
       "    .dataframe tbody tr th {\n",
       "        vertical-align: top;\n",
       "    }\n",
       "\n",
       "    .dataframe thead th {\n",
       "        text-align: right;\n",
       "    }\n",
       "</style>\n",
       "<table border=\"1\" class=\"dataframe\">\n",
       "  <thead>\n",
       "    <tr style=\"text-align: right;\">\n",
       "      <th></th>\n",
       "      <th>exp_group</th>\n",
       "      <th>user_id</th>\n",
       "      <th>likes</th>\n",
       "      <th>views</th>\n",
       "      <th>ctr</th>\n",
       "      <th>linearize_likes</th>\n",
       "    </tr>\n",
       "  </thead>\n",
       "  <tbody>\n",
       "    <tr>\n",
       "      <th>0</th>\n",
       "      <td>3</td>\n",
       "      <td>115383</td>\n",
       "      <td>9</td>\n",
       "      <td>30</td>\n",
       "      <td>0.300000</td>\n",
       "      <td>2.752916</td>\n",
       "    </tr>\n",
       "    <tr>\n",
       "      <th>1</th>\n",
       "      <td>3</td>\n",
       "      <td>123580</td>\n",
       "      <td>13</td>\n",
       "      <td>48</td>\n",
       "      <td>0.270833</td>\n",
       "      <td>3.004666</td>\n",
       "    </tr>\n",
       "    <tr>\n",
       "      <th>2</th>\n",
       "      <td>0</td>\n",
       "      <td>4944</td>\n",
       "      <td>8</td>\n",
       "      <td>41</td>\n",
       "      <td>0.195122</td>\n",
       "      <td>-0.537681</td>\n",
       "    </tr>\n",
       "    <tr>\n",
       "      <th>3</th>\n",
       "      <td>0</td>\n",
       "      <td>4504</td>\n",
       "      <td>5</td>\n",
       "      <td>15</td>\n",
       "      <td>0.333333</td>\n",
       "      <td>1.876458</td>\n",
       "    </tr>\n",
       "    <tr>\n",
       "      <th>4</th>\n",
       "      <td>0</td>\n",
       "      <td>121508</td>\n",
       "      <td>18</td>\n",
       "      <td>88</td>\n",
       "      <td>0.204545</td>\n",
       "      <td>-0.324779</td>\n",
       "    </tr>\n",
       "  </tbody>\n",
       "</table>\n",
       "</div>"
      ],
      "text/plain": [
       "   exp_group  user_id  likes  views       ctr  linearize_likes\n",
       "0          3   115383      9     30  0.300000         2.752916\n",
       "1          3   123580     13     48  0.270833         3.004666\n",
       "2          0     4944      8     41  0.195122        -0.537681\n",
       "3          0     4504      5     15  0.333333         1.876458\n",
       "4          0   121508     18     88  0.204545        -0.324779"
      ]
     },
     "execution_count": 23,
     "metadata": {},
     "output_type": "execute_result"
    }
   ],
   "source": [
    "#Посчитаем в обеих группах поюзерную метрику:  𝑙𝑖𝑛𝑒𝑎𝑟𝑖𝑧𝑒𝑑_𝑙𝑖𝑘𝑒𝑠=𝑙𝑖𝑘𝑒𝑠−𝐶𝑇𝑅𝑐𝑜𝑛𝑡𝑟𝑜𝑙∗𝑣𝑖𝑒𝑤𝑠\n",
    "df1['linearize_likes'] = df1.likes - ctr_control*df1.views\n",
    "df1.head()"
   ]
  },
  {
   "cell_type": "code",
   "execution_count": 24,
   "id": "398723d0-6204-43cf-9fa7-b5e0837ea31c",
   "metadata": {},
   "outputs": [
    {
     "data": {
      "image/png": "[encoded data removed]",
      "text/plain": [
       "<Figure size 864x576 with 1 Axes>"
      ]
     },
     "metadata": {},
     "output_type": "display_data"
    }
   ],
   "source": [
    "#посмотрим визуально распределение linearize_likes в наших группах\n",
    "groups = sns.histplot(data = df1, \n",
    "              x='linearize_likes', \n",
    "              hue='exp_group', \n",
    "              palette = ['r', 'b'],\n",
    "              alpha=0.5,\n",
    "              kde=False)"
   ]
  },
  {
   "cell_type": "code",
   "execution_count": 25,
   "id": "faad59cc-c4d6-423d-a168-4997ca12430e",
   "metadata": {},
   "outputs": [
    {
     "data": {
      "text/plain": [
       "Ttest_indResult(statistic=-15.21499546090383, pvalue=5.4914249479687664e-52)"
      ]
     },
     "execution_count": 25,
     "metadata": {},
     "output_type": "execute_result"
    }
   ],
   "source": [
    "#сравним  t-тестом отличия в группах по метрике 𝑙𝑖𝑛𝑒𝑎𝑟𝑖𝑧𝑒𝑑_𝑙𝑖𝑘𝑒𝑠\n",
    "stats.ttest_ind(df1[df1.exp_group == 0].linearize_likes,\n",
    "                df1[df1.exp_group == 3].linearize_likes,\n",
    "                equal_var=False)"
   ]
  },
  {
   "cell_type": "markdown",
   "id": "77d575ed-1a16-44c9-937b-97b21e3b7f1d",
   "metadata": {},
   "source": [
    "pvalue < 0.05 -  различия в группах есть"
   ]
  },
  {
   "cell_type": "code",
   "execution_count": 26,
   "id": "08c2ce6c-7677-455f-8f3d-5b5e3fb0ef00",
   "metadata": {
    "tags": []
   },
   "outputs": [
    {
     "data": {
      "text/plain": [
       "Ttest_indResult(statistic=-13.896870721904069, pvalue=1.055849414662529e-43)"
      ]
     },
     "execution_count": 26,
     "metadata": {},
     "output_type": "execute_result"
    }
   ],
   "source": [
    "#теперь сравним  t-тестом отличия в группах по метрике ctr\n",
    "stats.ttest_ind(df1[df1.exp_group == 0].ctr,\n",
    "                df1[df1.exp_group == 3].ctr,\n",
    "                equal_var=False)"
   ]
  },
  {
   "cell_type": "markdown",
   "id": "ec488941-b0a4-4eac-840c-d6071ee829b0",
   "metadata": {},
   "source": [
    "pvalue также < 0.05 , но значение само значение pvalue гораздо больше в этот раз. Первый тест по метрике linearize_likes показывает большую чувствительность"
   ]
  },
  {
   "cell_type": "markdown",
   "id": "bbf93113-eb80-4863-8aec-3026e90aa54e",
   "metadata": {},
   "source": [
    "### Вывод из анализа AB теста 0 и 3 групп\n",
    "Глобальный CTR 2-й группы (экспериментальной) оказался ниже, чем в контрольной. Из чего следует, что новый алгоритм во 2-й группе привёл к ухудшени. Соответственно раскатывать новый алгоритм на всех новых пользователей не стоит. Может быть стоит проверить корректность проведения AB теста, т.к распределение CTR второй группы выглядит не характерно"
   ]
  },
  {
   "cell_type": "code",
   "execution_count": null,
   "id": "2c5987c1-73ad-4783-9814-59119f8b5b8a",
   "metadata": {},
   "outputs": [],
   "source": []
  }
 ],
 "metadata": {
  "kernelspec": {
   "display_name": "Python 3 (ipykernel)",
   "language": "python",
   "name": "python3"
  },
  "language_info": {
   "codemirror_mode": {
    "name": "ipython",
    "version": 3
   },
   "file_extension": ".py",
   "mimetype": "text/x-python",
   "name": "python",
   "nbconvert_exporter": "python",
   "pygments_lexer": "ipython3",
   "version": "3.10.9"
  }
 },
 "nbformat": 4,
 "nbformat_minor": 5
}
