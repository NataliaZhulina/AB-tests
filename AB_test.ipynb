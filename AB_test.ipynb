{
 "cells": [
  {
   "cell_type": "markdown",
   "id": "c5afe8d1-4f50-407a-a0ed-538d913fbf7c",
   "metadata": {
    "tags": []
   },
   "source": [
    "### A/B  тестирование. \n"
   ]
  },
  {
   "cell_type": "markdown",
   "id": "41efe1ce-ed2a-4733-9c92-f3891aece2af",
   "metadata": {},
   "source": [
    "__Дано:__\n",
    "- данные AB теста\n",
    "- Даты эксперимента: с 2023-01-31 по 2023-02-06 включительно. \n",
    "- Для эксперимента были задействованы 2-я и 1-я группы. В группе 2 был использован один из новых алгоритмов рекомендации постов, группа 1 использовалась в качестве контроля. \n",
    "- Основная гипотеза заключается в том, что новый алгоритм во 2-й группе приведет к увеличению CTR. \n",
    "\n",
    "__Задача: проанализировать данные АB-теста.__ \n",
    "\n",
    "1. Выбрать метод анализа и сравнить CTR в двух группах.\n",
    "2. Написать рекомендацию, будем ли мы раскатывать новый алгоритм на всех новых пользователей или все-таки не стоит."
   ]
  },
  {
   "cell_type": "code",
   "execution_count": 1,
   "id": "93759379-384d-4e3c-90a2-c4138561b9a1",
   "metadata": {},
   "outputs": [],
   "source": [
    "import pandas as pd\n",
    "import pandahouse as ph\n",
    "import matplotlib.pyplot as plt\n",
    "import numpy as np\n",
    "import seaborn as sns\n",
    "import scipy.stats as stats"
   ]
  },
  {
   "cell_type": "code",
   "execution_count": 2,
   "id": "228d8a46-27f5-4771-aca5-ed58a37d0a37",
   "metadata": {},
   "outputs": [],
   "source": [
    "#сразу установим параметры вывода графиков \n",
    "sns.set(\n",
    "    rc={\n",
    "        \"figure.figsize\": (12, 8), #размер графика - 12 дюймов в ширину, 8 в длину\n",
    "        \"axes.titlesize\": 20, #размер заголовка \n",
    "        \"axes.labelsize\": 14, #размер подписей осей\n",
    "        \"xtick.labelsize\": 13, #размер подписей чёрточек на x-оси\n",
    "        \"ytick.labelsize\": 13, #размер подписей чёрточек на y-оси\n",
    "    }\n",
    ")"
   ]
  },
  {
   "cell_type": "code",
   "execution_count": 3,
   "id": "1c608c39-4c7d-4623-a2df-e6ce74402d5b",
   "metadata": {},
   "outputs": [
    {
     "data": {
      "text/html": [
       "<div>\n",
       "<style scoped>\n",
       "    .dataframe tbody tr th:only-of-type {\n",
       "        vertical-align: middle;\n",
       "    }\n",
       "\n",
       "    .dataframe tbody tr th {\n",
       "        vertical-align: top;\n",
       "    }\n",
       "\n",
       "    .dataframe thead th {\n",
       "        text-align: right;\n",
       "    }\n",
       "</style>\n",
       "<table border=\"1\" class=\"dataframe\">\n",
       "  <thead>\n",
       "    <tr style=\"text-align: right;\">\n",
       "      <th></th>\n",
       "      <th>exp_group</th>\n",
       "      <th>user_id</th>\n",
       "      <th>likes</th>\n",
       "      <th>views</th>\n",
       "      <th>ctr</th>\n",
       "    </tr>\n",
       "  </thead>\n",
       "  <tbody>\n",
       "    <tr>\n",
       "      <th>0</th>\n",
       "      <td>1</td>\n",
       "      <td>109963</td>\n",
       "      <td>3</td>\n",
       "      <td>15</td>\n",
       "      <td>0.200000</td>\n",
       "    </tr>\n",
       "    <tr>\n",
       "      <th>1</th>\n",
       "      <td>1</td>\n",
       "      <td>26117</td>\n",
       "      <td>32</td>\n",
       "      <td>141</td>\n",
       "      <td>0.226950</td>\n",
       "    </tr>\n",
       "    <tr>\n",
       "      <th>2</th>\n",
       "      <td>1</td>\n",
       "      <td>138232</td>\n",
       "      <td>18</td>\n",
       "      <td>73</td>\n",
       "      <td>0.246575</td>\n",
       "    </tr>\n",
       "    <tr>\n",
       "      <th>3</th>\n",
       "      <td>1</td>\n",
       "      <td>26295</td>\n",
       "      <td>33</td>\n",
       "      <td>122</td>\n",
       "      <td>0.270492</td>\n",
       "    </tr>\n",
       "    <tr>\n",
       "      <th>4</th>\n",
       "      <td>1</td>\n",
       "      <td>18392</td>\n",
       "      <td>7</td>\n",
       "      <td>32</td>\n",
       "      <td>0.218750</td>\n",
       "    </tr>\n",
       "  </tbody>\n",
       "</table>\n",
       "</div>"
      ],
      "text/plain": [
       "   exp_group  user_id  likes  views       ctr\n",
       "0          1   109963      3     15  0.200000\n",
       "1          1    26117     32    141  0.226950\n",
       "2          1   138232     18     73  0.246575\n",
       "3          1    26295     33    122  0.270492\n",
       "4          1    18392      7     32  0.218750"
      ]
     },
     "execution_count": 3,
     "metadata": {},
     "output_type": "execute_result"
    }
   ],
   "source": [
    "connection = {'host': ,\n",
    "                      'database':,\n",
    "                      'user':, \n",
    "                      'password':\n",
    "                     }\n",
    "\n",
    "q = \"\"\"\n",
    "SELECT exp_group, \n",
    "    user_id,\n",
    "    sum(action = 'like') as likes,\n",
    "    sum(action = 'view') as views,\n",
    "    likes/views as ctr\n",
    "FROM {db}.feed_actions \n",
    "WHERE toDate(time) between '2023-01-31' and '2023-02-06'\n",
    "    and exp_group in (1,2)\n",
    "GROUP BY exp_group, user_id\n",
    "\"\"\"\n",
    "\n",
    "df = ph.read_clickhouse(q, connection=connection)\n",
    "\n",
    "df.head()"
   ]
  },
  {
   "cell_type": "markdown",
   "id": "c28cf3ac-313c-4dd6-97ff-0e4966950a93",
   "metadata": {
    "tags": []
   },
   "source": [
    "Посмотрим общее описание по каждой группе"
   ]
  },
  {
   "cell_type": "code",
   "execution_count": 4,
   "id": "39936fea-e564-45e1-9e13-178b9e225b11",
   "metadata": {},
   "outputs": [
    {
     "data": {
      "text/html": [
       "<div>\n",
       "<style scoped>\n",
       "    .dataframe tbody tr th:only-of-type {\n",
       "        vertical-align: middle;\n",
       "    }\n",
       "\n",
       "    .dataframe tbody tr th {\n",
       "        vertical-align: top;\n",
       "    }\n",
       "\n",
       "    .dataframe thead th {\n",
       "        text-align: right;\n",
       "    }\n",
       "</style>\n",
       "<table border=\"1\" class=\"dataframe\">\n",
       "  <thead>\n",
       "    <tr style=\"text-align: right;\">\n",
       "      <th></th>\n",
       "      <th>exp_group</th>\n",
       "      <th>user_id</th>\n",
       "      <th>likes</th>\n",
       "      <th>views</th>\n",
       "      <th>ctr</th>\n",
       "    </tr>\n",
       "  </thead>\n",
       "  <tbody>\n",
       "    <tr>\n",
       "      <th>count</th>\n",
       "      <td>10079.0</td>\n",
       "      <td>10079.000000</td>\n",
       "      <td>10079.000000</td>\n",
       "      <td>10079.000000</td>\n",
       "      <td>10079.000000</td>\n",
       "    </tr>\n",
       "    <tr>\n",
       "      <th>mean</th>\n",
       "      <td>1.0</td>\n",
       "      <td>75540.955948</td>\n",
       "      <td>13.792142</td>\n",
       "      <td>66.299831</td>\n",
       "      <td>0.215605</td>\n",
       "    </tr>\n",
       "    <tr>\n",
       "      <th>std</th>\n",
       "      <td>0.0</td>\n",
       "      <td>53211.834816</td>\n",
       "      <td>9.798990</td>\n",
       "      <td>45.043411</td>\n",
       "      <td>0.084160</td>\n",
       "    </tr>\n",
       "    <tr>\n",
       "      <th>min</th>\n",
       "      <td>1.0</td>\n",
       "      <td>206.000000</td>\n",
       "      <td>0.000000</td>\n",
       "      <td>2.000000</td>\n",
       "      <td>0.000000</td>\n",
       "    </tr>\n",
       "    <tr>\n",
       "      <th>25%</th>\n",
       "      <td>1.0</td>\n",
       "      <td>22227.000000</td>\n",
       "      <td>7.000000</td>\n",
       "      <td>32.000000</td>\n",
       "      <td>0.160097</td>\n",
       "    </tr>\n",
       "    <tr>\n",
       "      <th>50%</th>\n",
       "      <td>1.0</td>\n",
       "      <td>109360.000000</td>\n",
       "      <td>12.000000</td>\n",
       "      <td>56.000000</td>\n",
       "      <td>0.203125</td>\n",
       "    </tr>\n",
       "    <tr>\n",
       "      <th>75%</th>\n",
       "      <td>1.0</td>\n",
       "      <td>126200.500000</td>\n",
       "      <td>19.000000</td>\n",
       "      <td>90.000000</td>\n",
       "      <td>0.257654</td>\n",
       "    </tr>\n",
       "    <tr>\n",
       "      <th>max</th>\n",
       "      <td>1.0</td>\n",
       "      <td>140500.000000</td>\n",
       "      <td>81.000000</td>\n",
       "      <td>311.000000</td>\n",
       "      <td>0.722222</td>\n",
       "    </tr>\n",
       "  </tbody>\n",
       "</table>\n",
       "</div>"
      ],
      "text/plain": [
       "       exp_group        user_id         likes         views           ctr\n",
       "count    10079.0   10079.000000  10079.000000  10079.000000  10079.000000\n",
       "mean         1.0   75540.955948     13.792142     66.299831      0.215605\n",
       "std          0.0   53211.834816      9.798990     45.043411      0.084160\n",
       "min          1.0     206.000000      0.000000      2.000000      0.000000\n",
       "25%          1.0   22227.000000      7.000000     32.000000      0.160097\n",
       "50%          1.0  109360.000000     12.000000     56.000000      0.203125\n",
       "75%          1.0  126200.500000     19.000000     90.000000      0.257654\n",
       "max          1.0  140500.000000     81.000000    311.000000      0.722222"
      ]
     },
     "execution_count": 4,
     "metadata": {},
     "output_type": "execute_result"
    }
   ],
   "source": [
    "df[df.exp_group == 1].describe()\n"
   ]
  },
  {
   "cell_type": "code",
   "execution_count": 5,
   "id": "8d5f0b1b-a1f2-410d-922f-503772b79212",
   "metadata": {},
   "outputs": [
    {
     "data": {
      "text/html": [
       "<div>\n",
       "<style scoped>\n",
       "    .dataframe tbody tr th:only-of-type {\n",
       "        vertical-align: middle;\n",
       "    }\n",
       "\n",
       "    .dataframe tbody tr th {\n",
       "        vertical-align: top;\n",
       "    }\n",
       "\n",
       "    .dataframe thead th {\n",
       "        text-align: right;\n",
       "    }\n",
       "</style>\n",
       "<table border=\"1\" class=\"dataframe\">\n",
       "  <thead>\n",
       "    <tr style=\"text-align: right;\">\n",
       "      <th></th>\n",
       "      <th>exp_group</th>\n",
       "      <th>user_id</th>\n",
       "      <th>likes</th>\n",
       "      <th>views</th>\n",
       "      <th>ctr</th>\n",
       "    </tr>\n",
       "  </thead>\n",
       "  <tbody>\n",
       "    <tr>\n",
       "      <th>count</th>\n",
       "      <td>9952.0</td>\n",
       "      <td>9952.000000</td>\n",
       "      <td>9952.000000</td>\n",
       "      <td>9952.000000</td>\n",
       "      <td>9952.000000</td>\n",
       "    </tr>\n",
       "    <tr>\n",
       "      <th>mean</th>\n",
       "      <td>2.0</td>\n",
       "      <td>75142.800543</td>\n",
       "      <td>13.101387</td>\n",
       "      <td>66.148513</td>\n",
       "      <td>0.214419</td>\n",
       "    </tr>\n",
       "    <tr>\n",
       "      <th>std</th>\n",
       "      <td>0.0</td>\n",
       "      <td>53315.378033</td>\n",
       "      <td>11.838030</td>\n",
       "      <td>45.151210</td>\n",
       "      <td>0.144180</td>\n",
       "    </tr>\n",
       "    <tr>\n",
       "      <th>min</th>\n",
       "      <td>2.0</td>\n",
       "      <td>220.000000</td>\n",
       "      <td>0.000000</td>\n",
       "      <td>1.000000</td>\n",
       "      <td>0.000000</td>\n",
       "    </tr>\n",
       "    <tr>\n",
       "      <th>25%</th>\n",
       "      <td>2.0</td>\n",
       "      <td>21904.250000</td>\n",
       "      <td>5.000000</td>\n",
       "      <td>32.000000</td>\n",
       "      <td>0.095238</td>\n",
       "    </tr>\n",
       "    <tr>\n",
       "      <th>50%</th>\n",
       "      <td>2.0</td>\n",
       "      <td>109112.500000</td>\n",
       "      <td>9.000000</td>\n",
       "      <td>56.000000</td>\n",
       "      <td>0.142857</td>\n",
       "    </tr>\n",
       "    <tr>\n",
       "      <th>75%</th>\n",
       "      <td>2.0</td>\n",
       "      <td>126228.250000</td>\n",
       "      <td>17.000000</td>\n",
       "      <td>91.000000</td>\n",
       "      <td>0.325000</td>\n",
       "    </tr>\n",
       "    <tr>\n",
       "      <th>max</th>\n",
       "      <td>2.0</td>\n",
       "      <td>141164.000000</td>\n",
       "      <td>95.000000</td>\n",
       "      <td>321.000000</td>\n",
       "      <td>0.923077</td>\n",
       "    </tr>\n",
       "  </tbody>\n",
       "</table>\n",
       "</div>"
      ],
      "text/plain": [
       "       exp_group        user_id        likes        views          ctr\n",
       "count     9952.0    9952.000000  9952.000000  9952.000000  9952.000000\n",
       "mean         2.0   75142.800543    13.101387    66.148513     0.214419\n",
       "std          0.0   53315.378033    11.838030    45.151210     0.144180\n",
       "min          2.0     220.000000     0.000000     1.000000     0.000000\n",
       "25%          2.0   21904.250000     5.000000    32.000000     0.095238\n",
       "50%          2.0  109112.500000     9.000000    56.000000     0.142857\n",
       "75%          2.0  126228.250000    17.000000    91.000000     0.325000\n",
       "max          2.0  141164.000000    95.000000   321.000000     0.923077"
      ]
     },
     "execution_count": 5,
     "metadata": {},
     "output_type": "execute_result"
    }
   ],
   "source": [
    "df[df.exp_group == 2].describe()\n",
    "\n"
   ]
  },
  {
   "cell_type": "markdown",
   "id": "809921a1-e60b-48e5-89fe-724d977f088d",
   "metadata": {},
   "source": [
    "Количество пользователей в группах отличаются на 1.3% . Средние CTR отличаются на 0.001, а вот  медианные на 0.06"
   ]
  },
  {
   "cell_type": "code",
   "execution_count": 6,
   "id": "a28e57d4-b88e-4ed2-a66a-3ba62b3d048d",
   "metadata": {},
   "outputs": [
    {
     "data": {
      "image/png": "[encoded data removed]",
      "text/plain": [
       "<Figure size 864x576 with 1 Axes>"
      ]
     },
     "metadata": {},
     "output_type": "display_data"
    }
   ],
   "source": [
    "#посмотрим визуально распределение ctr в наших группах\n",
    "groups = sns.histplot(data = df, \n",
    "              x='ctr', \n",
    "              hue='exp_group', \n",
    "              palette = ['r', 'b'],\n",
    "              alpha=0.5,\n",
    "              kde=False)"
   ]
  },
  {
   "cell_type": "markdown",
   "id": "d2eaf971-6e5f-4ee7-8ddd-6caa9a4d6ec6",
   "metadata": {},
   "source": [
    "Визуально распределения CTR разные. Если контрольная группа как-то напоминает нормальное распределение, то экспериментальная точно нет: \"двугорбое\" распределение и как будто пользователи поделились на 2 группы: одна с малыми значениями CTR, а для второй характерны более высокие CTR. "
   ]
  },
  {
   "cell_type": "markdown",
   "id": "81e31bd3-4672-4dc4-8a44-c534c2ce315c",
   "metadata": {},
   "source": [
    "__Выбор метода анализа__"
   ]
  },
  {
   "cell_type": "markdown",
   "id": "4255273e-d0e7-4ec3-ac57-e3164f5cdf88",
   "metadata": {},
   "source": [
    "Исходя из следующих соображений для анализа АВ теста выбираем метод Пуасоновский Бутстреп:\n",
    "1. Поскольку нас интересует на самом общий показатель CTR  по ВСЕЙ группе\n",
    "2. Распределение 2торой группы далеко от нормального\n",
    "3. У нас не слишком много данных, поэтому не смотря на свою \"медленность\" метод отработает быстро."
   ]
  },
  {
   "cell_type": "code",
   "execution_count": 7,
   "id": "ac8b3c62-0385-4334-8dcf-a62237195db0",
   "metadata": {
    "tags": []
   },
   "outputs": [],
   "source": [
    "def bootstrap(likes1, views1, likes2, views2, n_bootstrap=2000):\n",
    "\n",
    "    poisson_bootstraps1 = stats.poisson(1).rvs(\n",
    "        (n_bootstrap, len(likes1))).astype(np.int64)\n",
    "\n",
    "    poisson_bootstraps2 = stats.poisson(1).rvs(\n",
    "            (n_bootstrap, len(likes2))).astype(np.int64)\n",
    "    \n",
    "    globalCTR1 = (poisson_bootstraps1*likes1).sum(axis=1)/(poisson_bootstraps1*views1).sum(axis=1)\n",
    "    \n",
    "    globalCTR2 = (poisson_bootstraps2*likes2).sum(axis=1)/(poisson_bootstraps2*views2).sum(axis=1)\n",
    "\n",
    "    return globalCTR1, globalCTR2"
   ]
  },
  {
   "cell_type": "code",
   "execution_count": 8,
   "id": "522271bb-d2cd-42bc-9835-31bb3da956b5",
   "metadata": {},
   "outputs": [
    {
     "data": {
      "image/png": "[encoded data removed]",
      "text/plain": [
       "<Figure size 864x576 with 1 Axes>"
      ]
     },
     "metadata": {},
     "output_type": "display_data"
    }
   ],
   "source": [
    "likes1 = df[df.exp_group == 1].likes.to_numpy()\n",
    "views1 = df[df.exp_group == 1].views.to_numpy()\n",
    "likes2 = df[df.exp_group == 2].likes.to_numpy()\n",
    "views2 = df[df.exp_group == 2].views.to_numpy()\n",
    "\n",
    "ctr1, ctr2 = bootstrap(likes1, views1, likes2, views2)\n",
    "\n",
    "sns.histplot(ctr1)\n",
    "sns.histplot(ctr2, color = 'green')\n",
    "\n",
    "plt.show()"
   ]
  },
  {
   "cell_type": "markdown",
   "id": "02850686-459b-4873-a98b-246a3e99d095",
   "metadata": {},
   "source": [
    "Групповой CTR  в экспериментальной группе ниже чем в контрольной."
   ]
  },
  {
   "cell_type": "markdown",
   "id": "fa04c1f4-0382-4d49-a481-7621ac8b9ec8",
   "metadata": {},
   "source": [
    "Построим распределение разницы между \"глобальными CTR\" двух групп"
   ]
  },
  {
   "cell_type": "code",
   "execution_count": 9,
   "id": "848d790d-031c-40c3-ba7d-372521591f22",
   "metadata": {},
   "outputs": [
    {
     "data": {
      "image/png": "[encoded data removed]",
      "text/plain": [
       "<Figure size 864x576 with 1 Axes>"
      ]
     },
     "metadata": {},
     "output_type": "display_data"
    }
   ],
   "source": [
    "#Разница между глобальными CTR\n",
    "\n",
    "sns.histplot(ctr2 - ctr1)\n",
    "plt.show()"
   ]
  },
  {
   "cell_type": "markdown",
   "id": "4ecd4b4a-8fdd-41c0-8c3c-84a13866e2db",
   "metadata": {
    "tags": []
   },
   "source": [
    "Распределение не пересекает 0 и расположено в отрицательных значениях. Это значит, что показатель CTR второй группы  строго меньше первой. "
   ]
  },
  {
   "cell_type": "markdown",
   "id": "452ae048-e139-4ad4-a73f-aaeb2cdb7cfa",
   "metadata": {},
   "source": [
    "Распределение CTR второй группы выглядит не характерно для этой метрики. Из распределения CTR второй группы видно, что пользователи как бы разделились на группы, как будто у нас есть два распределения с двумя разными средними. Возможно так и случилось в действительности, было перекрытие с другим тестом, и часть пользователей учавствовала в двух тестах. Да, обычно одновременно запускают только независимые тесты, но может быть была  не корректно сделана оцена зависимости или она неожиданно проявилась. "
   ]
  },
  {
   "cell_type": "markdown",
   "id": "bbf93113-eb80-4863-8aec-3026e90aa54e",
   "metadata": {},
   "source": [
    "### Вывод \n",
    "\n",
    "Глобальный CTR 2-й группы (экспериментальной) оказался ниже, чем в контрольной. Из чего следует, что новый алгоритм во 2-й группе привёл к ухудшению. Соответственно раскатывать новый алгоритм на всех новых пользователей не стоит. Может быть стоит проверить корректность проведения AB теста, т.к распределение CTR второй группы выглядит не характерно."
   ]
  },
  {
   "cell_type": "code",
   "execution_count": null,
   "id": "d606a743",
   "metadata": {},
   "outputs": [],
   "source": []
  }
 ],
 "metadata": {
  "kernelspec": {
   "display_name": "Python 3 (ipykernel)",
   "language": "python",
   "name": "python3"
  },
  "language_info": {
   "codemirror_mode": {
    "name": "ipython",
    "version": 3
   },
   "file_extension": ".py",
   "mimetype": "text/x-python",
   "name": "python",
   "nbconvert_exporter": "python",
   "pygments_lexer": "ipython3",
   "version": "3.10.9"
  }
 },
 "nbformat": 4,
 "nbformat_minor": 5
}
